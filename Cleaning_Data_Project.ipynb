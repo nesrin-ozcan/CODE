{
 "cells": [
  {
   "cell_type": "markdown",
   "id": "important-dominant",
   "metadata": {},
   "source": [
    "#  Cleaning Data Exercises"
   ]
  },
  {
   "cell_type": "markdown",
   "id": "acute-taste",
   "metadata": {},
   "source": [
    "## Import Pandas and Numpy"
   ]
  },
  {
   "cell_type": "code",
   "execution_count": 1,
   "id": "grateful-veteran",
   "metadata": {},
   "outputs": [],
   "source": [
    "import pandas as pd\n",
    "import numpy as np"
   ]
  },
  {
   "cell_type": "markdown",
   "id": "amateur-egyptian",
   "metadata": {},
   "source": [
    "## Import .csv files"
   ]
  },
  {
   "cell_type": "code",
   "execution_count": 11,
   "id": "harmful-excuse",
   "metadata": {},
   "outputs": [],
   "source": [
    "banking=pd.read_csv(\"/home/edremit/Desktop/Datasets/banking_dirty.csv\", index_col=0)\n",
    "airlines=pd.read_csv(\"/home/edremit/Desktop/Datasets/airlines_final.csv\",index_col=0)\n",
    "ride_sharing=pd.read_csv(\"/home/edremit/Desktop/Datasets/ride_sharing_new.csv\",index_col=0)"
   ]
  },
  {
   "cell_type": "markdown",
   "id": "naked-function",
   "metadata": {},
   "source": [
    "## Create Categories dataframe"
   ]
  },
  {
   "cell_type": "code",
   "execution_count": 12,
   "id": "ambient-maryland",
   "metadata": {},
   "outputs": [],
   "source": [
    "a=airlines[\"cleanliness\"].unique()\n",
    "b=airlines[\"safety\"].unique()\n",
    "c=airlines[\"satisfaction\"].unique()\n",
    "mydict={\"cleanliness\":a,\"safety\":b,\"satf\":c}\n",
    "categories=pd.DataFrame(mydict)"
   ]
  },
  {
   "cell_type": "code",
   "execution_count": 14,
   "id": "unique-requirement",
   "metadata": {},
   "outputs": [
    {
     "name": "stdout",
     "output_type": "stream",
     "text": [
      "      cleanliness           safety                  satf\n",
      "0           Clean          Neutral        Very satisfied\n",
      "1         Average        Very safe               Neutral\n",
      "2  Somewhat clean    Somewhat safe    Somewhat satsified\n",
      "3  Somewhat dirty      Very unsafe  Somewhat unsatisfied\n",
      "4           Dirty  Somewhat unsafe      Very unsatisfied\n"
     ]
    }
   ],
   "source": [
    "print(categories)"
   ]
  },
  {
   "cell_type": "code",
   "execution_count": 15,
   "id": "stylish-feeling",
   "metadata": {},
   "outputs": [],
   "source": [
    "cat_clean=set(airlines[\"cleanliness\"]).difference(categories[\"cleanliness\"])\n",
    "cat_clean_rows = airlines['cleanliness'].isin(cat_clean)"
   ]
  },
  {
   "cell_type": "code",
   "execution_count": 16,
   "id": "spare-chance",
   "metadata": {},
   "outputs": [
    {
     "name": "stdout",
     "output_type": "stream",
     "text": [
      "Empty DataFrame\n",
      "Columns: [id, day, airline, destination, dest_region, dest_size, boarding_area, dept_time, wait_min, cleanliness, safety, satisfaction]\n",
      "Index: []\n"
     ]
    }
   ],
   "source": [
    "print(airlines[cat_clean_rows])"
   ]
  },
  {
   "cell_type": "markdown",
   "id": "concerned-disaster",
   "metadata": {},
   "source": [
    "## Finding unique values of \"dest_region\" and \"dest_size\" columns:"
   ]
  },
  {
   "cell_type": "code",
   "execution_count": 18,
   "id": "expressed-acceptance",
   "metadata": {},
   "outputs": [
    {
     "name": "stdout",
     "output_type": "stream",
     "text": [
      "['Asia' 'Canada/Mexico' 'West US' 'East US' 'Midwest US' 'EAST US'\n",
      " 'Middle East' 'Europe' 'eur' 'Central/South America'\n",
      " 'Australia/New Zealand' 'middle east']\n",
      "['Hub' 'Small' '    Hub' 'Medium' 'Large' 'Hub     ' '    Small'\n",
      " 'Medium     ' '    Medium' 'Small     ' '    Large' 'Large     ']\n"
     ]
    }
   ],
   "source": [
    "print(airlines[\"dest_region\"].unique())\n",
    "print(airlines[\"dest_size\"].unique())"
   ]
  },
  {
   "cell_type": "markdown",
   "id": "demonstrated-belgium",
   "metadata": {},
   "source": [
    "We see that there are many inconsistent values in these columns, so we will fix it"
   ]
  },
  {
   "cell_type": "code",
   "execution_count": 21,
   "id": "silent-youth",
   "metadata": {},
   "outputs": [],
   "source": [
    "airlines['dest_region'] = airlines['dest_region'].str.lower() \n",
    "airlines['dest_region'] = airlines['dest_region'].replace({'eur':'europe'})\n",
    "airlines['dest_size'] = airlines['dest_size'].str.strip()"
   ]
  },
  {
   "cell_type": "code",
   "execution_count": 22,
   "id": "interpreted-huntington",
   "metadata": {},
   "outputs": [
    {
     "name": "stdout",
     "output_type": "stream",
     "text": [
      "['asia' 'canada/mexico' 'west us' 'east us' 'midwest us' 'middle east'\n",
      " 'europe' 'central/south america' 'australia/new zealand']\n",
      "['Hub' 'Small' 'Medium' 'Large']\n"
     ]
    }
   ],
   "source": [
    "print(airlines[\"dest_region\"].unique())\n",
    "print(airlines[\"dest_size\"].unique())"
   ]
  },
  {
   "cell_type": "markdown",
   "id": "protective-explosion",
   "metadata": {},
   "source": [
    "Now the values are really unique"
   ]
  },
  {
   "cell_type": "markdown",
   "id": "typical-mauritius",
   "metadata": {},
   "source": [
    "## Create ranges for categories"
   ]
  },
  {
   "cell_type": "code",
   "execution_count": 25,
   "id": "shaped-textbook",
   "metadata": {},
   "outputs": [
    {
     "name": "stdout",
     "output_type": "stream",
     "text": [
      "['medium', 'long', 'short']\n",
      "Categories (3, object): ['short' < 'medium' < 'long']\n"
     ]
    }
   ],
   "source": [
    "label_ranges = [0, 60, 180, np.inf]\n",
    "label_names = ['short', 'medium', 'long']\n",
    "airlines['wait_type'] = pd.cut(airlines['wait_min'], bins = label_ranges, \n",
    "                                labels = label_names)\n",
    "print(airlines[\"wait_type\"].unique())"
   ]
  },
  {
   "cell_type": "markdown",
   "id": "empty-pottery",
   "metadata": {},
   "source": [
    "## Create mappings and replace"
   ]
  },
  {
   "cell_type": "code",
   "execution_count": 26,
   "id": "suitable-bosnia",
   "metadata": {},
   "outputs": [
    {
     "name": "stdout",
     "output_type": "stream",
     "text": [
      "['Tuesday' 'Friday' 'Thursday' 'Wednesday' 'Saturday' 'Sunday' 'Monday']\n"
     ]
    }
   ],
   "source": [
    "print(airlines[\"day\"].unique())"
   ]
  },
  {
   "cell_type": "code",
   "execution_count": 27,
   "id": "unable-closure",
   "metadata": {},
   "outputs": [
    {
     "name": "stdout",
     "output_type": "stream",
     "text": [
      "['weekday' 'weekend']\n"
     ]
    }
   ],
   "source": [
    "mappings = {'Monday':'weekday', 'Tuesday':'weekday', 'Wednesday': 'weekday', \n",
    "            'Thursday': 'weekday', 'Friday': 'weekday', \n",
    "            'Saturday': 'weekend', 'Sunday': 'weekend'}\n",
    "\n",
    "airlines['day_week'] = airlines['day'].replace(mappings)\n",
    "print(airlines[\"day_week\"].unique())"
   ]
  },
  {
   "cell_type": "markdown",
   "id": "functioning-destination",
   "metadata": {},
   "source": [
    "## Cleaning numbers and names"
   ]
  },
  {
   "cell_type": "code",
   "execution_count": 36,
   "id": "racial-mainstream",
   "metadata": {},
   "outputs": [
    {
     "name": "stdout",
     "output_type": "stream",
     "text": [
      "Index(['id', 'day', 'airline', 'destination', 'dest_region', 'dest_size',\n",
      "       'boarding_area', 'dept_time', 'wait_min', 'cleanliness', 'safety',\n",
      "       'satisfaction', 'wait_type', 'day_week'],\n",
      "      dtype='object')\n"
     ]
    }
   ],
   "source": [
    "print(airlines.columns)"
   ]
  },
  {
   "cell_type": "code",
   "execution_count": 43,
   "id": "inclusive-corruption",
   "metadata": {},
   "outputs": [
    {
     "name": "stdout",
     "output_type": "stream",
     "text": [
      "west us                  864\n",
      "east us                  436\n",
      "europe                   351\n",
      "midwest us               251\n",
      "asia                     226\n",
      "canada/mexico            198\n",
      "middle east               69\n",
      "australia/new zealand     60\n",
      "central/south america     22\n",
      "Name: dest_region, dtype: int64\n"
     ]
    }
   ],
   "source": [
    "print(airlines[\"dest_region\"].value_counts())"
   ]
  },
  {
   "cell_type": "code",
   "execution_count": 45,
   "id": "appointed-saudi",
   "metadata": {},
   "outputs": [
    {
     "name": "stdout",
     "output_type": "stream",
     "text": [
      "Index(['duration', 'station_A_id', 'station_A_name', 'station_B_id',\n",
      "       'station_B_name', 'bike_id', 'user_type', 'user_birth_year',\n",
      "       'user_gender'],\n",
      "      dtype='object')\n"
     ]
    }
   ],
   "source": [
    "print(ride_sharing.columns)"
   ]
  },
  {
   "cell_type": "code",
   "execution_count": 48,
   "id": "derived-decision",
   "metadata": {},
   "outputs": [
    {
     "name": "stdout",
     "output_type": "stream",
     "text": [
      "[2 3 1]\n"
     ]
    }
   ],
   "source": [
    "print(ride_sharing['user_type'].unique())"
   ]
  },
  {
   "cell_type": "code",
   "execution_count": 51,
   "id": "genetic-fitness",
   "metadata": {},
   "outputs": [
    {
     "name": "stdout",
     "output_type": "stream",
     "text": [
      "    cust_id  birth_date  Age  acct_amount  inv_amount   fund_A   fund_B  \\\n",
      "0  870A9281  1962-06-09   58     63523.31       51295  30105.0   4138.0   \n",
      "1  166B05B0  1962-12-16   58     38175.46       15050   4995.0    938.0   \n",
      "2  BFC13E88  1990-09-12   34     59863.77       24567  10323.0   4590.0   \n",
      "3  F2158F66  1985-11-03   35     84132.10       23712   3908.0    492.0   \n",
      "4  7A73F334  1990-05-17   30    120512.00       93230  12158.4  51281.0   \n",
      "\n",
      "    fund_C   fund_D account_opened last_transaction  \n",
      "0   1420.0  15632.0       02-09-18         22-02-19  \n",
      "1   6696.0   2421.0       28-02-19         31-10-18  \n",
      "2   8469.0   1185.0       25-04-18         02-04-18  \n",
      "3   6482.0  12830.0       07-11-17         08-11-18  \n",
      "4  13434.0  18383.0       14-05-18         19-07-18  \n"
     ]
    }
   ],
   "source": [
    "print(banking.head())"
   ]
  },
  {
   "cell_type": "markdown",
   "id": "common-rapid",
   "metadata": {},
   "source": [
    "## Joining Dataframes"
   ]
  },
  {
   "cell_type": "code",
   "execution_count": 52,
   "id": "handed-pointer",
   "metadata": {},
   "outputs": [
    {
     "name": "stdout",
     "output_type": "stream",
     "text": [
      "(100, 11)\n"
     ]
    }
   ],
   "source": [
    "print(banking.shape)"
   ]
  },
  {
   "cell_type": "code",
   "execution_count": 63,
   "id": "headed-parks",
   "metadata": {},
   "outputs": [],
   "source": [
    "add_column=pd.DataFrame(['dollar', 'dollar', 'dollar', 'euro', 'euro', 'dollar', 'dollar', 'euro', 'dollar', 'euro', 'dollar', 'dollar',\n",
    "                         'dollar', 'euro', 'dollar', 'dollar', 'euro', 'euro', 'dollar', 'euro', 'dollar', 'dollar', 'euro', 'euro',\n",
    "                         'euro', 'dollar', 'dollar', 'euro', 'dollar', 'dollar', 'dollar', 'dollar', 'dollar', 'dollar', 'dollar', \n",
    "                         'dollar', 'dollar', 'euro', 'euro', 'dollar', 'dollar', 'dollar', 'dollar', 'dollar', 'euro', 'dollar',\n",
    "                         'dollar', 'dollar', 'euro', 'dollar', 'dollar', 'euro', 'euro', 'euro', 'euro', 'dollar', 'dollar', 'dollar',\n",
    "                         'dollar', 'dollar', 'dollar', 'dollar', 'dollar', 'dollar', 'dollar', 'dollar', 'euro', 'dollar', 'dollar', \n",
    "                         'dollar', 'euro', 'dollar', 'dollar', 'dollar', 'dollar', 'dollar', 'euro', 'dollar', 'euro', 'euro', 'euro', \n",
    "                         'dollar', 'dollar', 'dollar', 'dollar', 'euro', 'euro', 'euro', 'dollar', 'euro', 'dollar', 'dollar', 'dollar',\n",
    "                         'dollar', 'dollar', 'dollar', 'dollar', 'euro', 'dollar', 'euro'], columns=[\"acct_cur\"])"
   ]
  },
  {
   "cell_type": "code",
   "execution_count": 64,
   "id": "intellectual-bolivia",
   "metadata": {},
   "outputs": [
    {
     "name": "stdout",
     "output_type": "stream",
     "text": [
      "(100, 1)\n"
     ]
    }
   ],
   "source": [
    "print(add_column.shape)"
   ]
  },
  {
   "cell_type": "code",
   "execution_count": 65,
   "id": "boring-explosion",
   "metadata": {},
   "outputs": [],
   "source": [
    "banking=banking.join(add_column)"
   ]
  },
  {
   "cell_type": "code",
   "execution_count": 66,
   "id": "scenic-census",
   "metadata": {},
   "outputs": [
    {
     "name": "stdout",
     "output_type": "stream",
     "text": [
      "    cust_id  birth_date  Age  acct_amount  inv_amount   fund_A   fund_B  \\\n",
      "0  870A9281  1962-06-09   58     63523.31       51295  30105.0   4138.0   \n",
      "1  166B05B0  1962-12-16   58     38175.46       15050   4995.0    938.0   \n",
      "2  BFC13E88  1990-09-12   34     59863.77       24567  10323.0   4590.0   \n",
      "3  F2158F66  1985-11-03   35     84132.10       23712   3908.0    492.0   \n",
      "4  7A73F334  1990-05-17   30    120512.00       93230  12158.4  51281.0   \n",
      "\n",
      "    fund_C   fund_D account_opened last_transaction acct_cur  \n",
      "0   1420.0  15632.0       02-09-18         22-02-19   dollar  \n",
      "1   6696.0   2421.0       28-02-19         31-10-18   dollar  \n",
      "2   8469.0   1185.0       25-04-18         02-04-18   dollar  \n",
      "3   6482.0  12830.0       07-11-17         08-11-18     euro  \n",
      "4  13434.0  18383.0       14-05-18         19-07-18     euro  \n"
     ]
    }
   ],
   "source": [
    "print(banking.head())"
   ]
  },
  {
   "cell_type": "markdown",
   "id": "manual-junior",
   "metadata": {},
   "source": [
    "## Convert acct_amount where it is in euro to dollars"
   ]
  },
  {
   "cell_type": "code",
   "execution_count": 67,
   "id": "urban-strip",
   "metadata": {},
   "outputs": [],
   "source": [
    "p= banking.loc[banking[\"acct_cur\"]==\"euro\", \"acct_amount\"] \n",
    "p=p*(1.1)"
   ]
  },
  {
   "cell_type": "markdown",
   "id": "frequent-ending",
   "metadata": {},
   "source": [
    "## Convert \"euro\" to \"dollar\" in acct_cur column, don't forget to add \"inplace=True\""
   ]
  },
  {
   "cell_type": "code",
   "execution_count": 77,
   "id": "foster-daniel",
   "metadata": {},
   "outputs": [],
   "source": [
    "banking[\"acct_cur\"].replace(\"euro\",\"dollar\", inplace=True)"
   ]
  },
  {
   "cell_type": "code",
   "execution_count": 78,
   "id": "guilty-gregory",
   "metadata": {},
   "outputs": [
    {
     "name": "stdout",
     "output_type": "stream",
     "text": [
      "    cust_id  birth_date  Age  acct_amount  inv_amount   fund_A   fund_B  \\\n",
      "0  870A9281  1962-06-09   58     63523.31       51295  30105.0   4138.0   \n",
      "1  166B05B0  1962-12-16   58     38175.46       15050   4995.0    938.0   \n",
      "2  BFC13E88  1990-09-12   34     59863.77       24567  10323.0   4590.0   \n",
      "3  F2158F66  1985-11-03   35     84132.10       23712   3908.0    492.0   \n",
      "4  7A73F334  1990-05-17   30    120512.00       93230  12158.4  51281.0   \n",
      "\n",
      "    fund_C   fund_D account_opened last_transaction acct_cur  \n",
      "0   1420.0  15632.0       02-09-18         22-02-19   dollar  \n",
      "1   6696.0   2421.0       28-02-19         31-10-18   dollar  \n",
      "2   8469.0   1185.0       25-04-18         02-04-18   dollar  \n",
      "3   6482.0  12830.0       07-11-17         08-11-18   dollar  \n",
      "4  13434.0  18383.0       14-05-18         19-07-18   dollar  \n"
     ]
    }
   ],
   "source": [
    "print(banking.head())"
   ]
  },
  {
   "cell_type": "markdown",
   "id": "adaptive-australian",
   "metadata": {},
   "source": [
    "## Check if all rows of acct_cur column is \"dollar\", with the help of \"assert\""
   ]
  },
  {
   "cell_type": "code",
   "execution_count": 80,
   "id": "silent-balloon",
   "metadata": {},
   "outputs": [],
   "source": [
    "assert banking['acct_cur'].unique() == 'dollar'"
   ]
  },
  {
   "cell_type": "markdown",
   "id": "sapphire-being",
   "metadata": {},
   "source": [
    "## Creating a 'acct_year' column from account_opened column"
   ]
  },
  {
   "cell_type": "code",
   "execution_count": 81,
   "id": "endangered-eligibility",
   "metadata": {},
   "outputs": [],
   "source": [
    "banking['account_opened'] = pd.to_datetime(banking['account_opened'],infer_datetime_format = True,errors ='coerce')"
   ]
  },
  {
   "cell_type": "code",
   "execution_count": 82,
   "id": "wound-buffer",
   "metadata": {},
   "outputs": [],
   "source": [
    "banking['acct_year'] = banking['account_opened'].dt.strftime('%Y')"
   ]
  },
  {
   "cell_type": "code",
   "execution_count": 85,
   "id": "creative-factory",
   "metadata": {},
   "outputs": [
    {
     "name": "stdout",
     "output_type": "stream",
     "text": [
      "0     2018\n",
      "1     2019\n",
      "2     2018\n",
      "3     2017\n",
      "4     2018\n",
      "      ... \n",
      "95    2018\n",
      "96    2017\n",
      "97    2017\n",
      "98    2017\n",
      "99    2017\n",
      "Name: acct_year, Length: 100, dtype: object\n"
     ]
    }
   ],
   "source": [
    "print(banking['acct_year'])"
   ]
  },
  {
   "cell_type": "markdown",
   "id": "resistant-cargo",
   "metadata": {},
   "source": [
    "## Data Integrity"
   ]
  },
  {
   "cell_type": "code",
   "execution_count": 86,
   "id": "peripheral-while",
   "metadata": {},
   "outputs": [
    {
     "name": "stdout",
     "output_type": "stream",
     "text": [
      "Number of inconsistent investments:  8\n"
     ]
    }
   ],
   "source": [
    "fund_columns = ['fund_A', 'fund_B', 'fund_C', 'fund_D']\n",
    "inv_equ = banking[fund_columns].sum(axis = 1) == banking['inv_amount']\n",
    "\n",
    "consistent_inv = banking[inv_equ]\n",
    "inconsistent_inv = banking[~inv_equ]\n",
    "\n",
    "print(\"Number of inconsistent investments: \", inconsistent_inv.shape[0])"
   ]
  },
  {
   "cell_type": "code",
   "execution_count": 93,
   "id": "eligible-administrator",
   "metadata": {},
   "outputs": [
    {
     "name": "stdout",
     "output_type": "stream",
     "text": [
      "(92, 13)\n"
     ]
    }
   ],
   "source": [
    "print(consistent_inv.shape)"
   ]
  },
  {
   "cell_type": "code",
   "execution_count": 94,
   "id": "possible-emerald",
   "metadata": {},
   "outputs": [
    {
     "name": "stdout",
     "output_type": "stream",
     "text": [
      "(100, 13)\n"
     ]
    }
   ],
   "source": [
    "print(banking.shape)"
   ]
  },
  {
   "cell_type": "code",
   "execution_count": 97,
   "id": "ordinary-accordance",
   "metadata": {},
   "outputs": [],
   "source": [
    "import datetime as dt"
   ]
  },
  {
   "cell_type": "code",
   "execution_count": 122,
   "id": "relative-guyana",
   "metadata": {},
   "outputs": [],
   "source": [
    "today = dt.date.today()\n",
    "ages_manual = today.year - pd.DatetimeIndex(banking['birth_date']).year -1\n",
    "age_equ = banking['Age'] == ages_manual\n",
    "consistent_ages = banking[age_equ]\n",
    "inconsistent_ages = banking[~age_equ]"
   ]
  },
  {
   "cell_type": "code",
   "execution_count": 123,
   "id": "crazy-reunion",
   "metadata": {},
   "outputs": [
    {
     "name": "stdout",
     "output_type": "stream",
     "text": [
      "(8, 13)\n"
     ]
    }
   ],
   "source": [
    "print(inconsistent_ages.shape)"
   ]
  },
  {
   "cell_type": "code",
   "execution_count": 124,
   "id": "latter-shopper",
   "metadata": {},
   "outputs": [
    {
     "name": "stdout",
     "output_type": "stream",
     "text": [
      "(92, 13)\n"
     ]
    }
   ],
   "source": [
    "print(consistent_ages.shape)"
   ]
  },
  {
   "cell_type": "markdown",
   "id": "super-boost",
   "metadata": {},
   "source": [
    "## Missing Values"
   ]
  },
  {
   "cell_type": "code",
   "execution_count": 140,
   "id": "working-block",
   "metadata": {},
   "outputs": [],
   "source": [
    "import missingno as msno\n",
    "import matplotlib.pyplot as plt"
   ]
  },
  {
   "cell_type": "code",
   "execution_count": 141,
   "id": "improving-election",
   "metadata": {},
   "outputs": [
    {
     "name": "stdout",
     "output_type": "stream",
     "text": [
      "cust_id             0\n",
      "birth_date          0\n",
      "Age                 0\n",
      "acct_amount         0\n",
      "inv_amount          0\n",
      "fund_A              0\n",
      "fund_B              0\n",
      "fund_C              0\n",
      "fund_D              0\n",
      "account_opened      0\n",
      "last_transaction    0\n",
      "acct_cur            0\n",
      "acct_year           0\n",
      "dtype: int64\n"
     ]
    },
    {
     "data": {
      "image/png": "[encoded data removed]",
      "text/plain": [
       "<Figure size 1800x720 with 2 Axes>"
      ]
     },
     "metadata": {
      "needs_background": "light"
     },
     "output_type": "display_data"
    }
   ],
   "source": [
    "print(banking.isna().sum())\n",
    "msno.matrix(banking)\n",
    "plt.show()"
   ]
  }
 ],
 "metadata": {
  "kernelspec": {
   "display_name": "Python 3",
   "language": "python",
   "name": "python3"
  },
  "language_info": {
   "codemirror_mode": {
    "name": "ipython",
    "version": 3
   },
   "file_extension": ".py",
   "mimetype": "text/x-python",
   "name": "python",
   "nbconvert_exporter": "python",
   "pygments_lexer": "ipython3",
   "version": "3.8.10"
  }
 },
 "nbformat": 4,
 "nbformat_minor": 5
}
